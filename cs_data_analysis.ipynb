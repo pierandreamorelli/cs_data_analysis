{
  "nbformat": 4,
  "nbformat_minor": 0,
  "metadata": {
    "colab": {
      "name": "cs_data_analysis.ipynb",
      "provenance": [],
      "collapsed_sections": [
        "dRJky_JZw1Oh",
        "Itc0xPPo_EvS"
      ],
      "toc_visible": true,
      "mount_file_id": "1nbF1EE5tNa4-ZCpk41NQ3xu4tZbRFa53",
      "authorship_tag": "ABX9TyMnuxWMageyKwSnILIrbmIF",
      "include_colab_link": true
    },
    "kernelspec": {
      "name": "python3",
      "display_name": "Python 3"
    },
    "language_info": {
      "name": "python"
    }
  },
  "cells": [
    {
      "cell_type": "markdown",
      "metadata": {
        "id": "view-in-github",
        "colab_type": "text"
      },
      "source": [
        "<a href=\"https://colab.research.google.com/github/pierandreamorelli/stage/blob/main/cs_data_analysis.ipynb\" target=\"_parent\"><img src=\"https://colab.research.google.com/assets/colab-badge.svg\" alt=\"Open In Colab\"/></a>"
      ]
    },
    {
      "cell_type": "markdown",
      "source": [
        "# Scaletta\n",
        "# Pipeline 1 - Data Preparation\n",
        "1.   Caricare DF: PY, PPY\n",
        "2.   Concatenare AN con PY, PPY\n",
        "3.   Eliminare colonne duplicate (Pandas)\n",
        "4.   Identificare colonne che hanno un solo valore e dropparle\n",
        "5. Identificare colonne categoriche\n",
        "6. Fare encoding one-hot per colonne categoriche\n",
        "7. Identificare colonne numeriche\n",
        "8. Fare re-scaling e normalizzare colonne numeriche\n",
        "9. Gestire valori NaN\n",
        "\n",
        "# Pipeline 2 - Training\n",
        "1.   Identificare la Y (colonna target, presa da df_LY) \n",
        "2.   Opzionale: passare anche la Y nella data preparation \n",
        "3. Attaccare Y a df_res \n",
        "4. split train e test (80%, 20%)\n",
        "5. identificare due/quattro modelli \n",
        "6. identificare le metriche di valutazione\n",
        "7. effettuare il training dei modelli\n",
        "8. valutarne le performance \n",
        "\n"
      ],
      "metadata": {
        "id": "4u9GlkvpLhDB"
      }
    },
    {
      "cell_type": "markdown",
      "source": [
        "# Pipeline 1 - Data Preparation"
      ],
      "metadata": {
        "id": "sVZ-Lli_UkEy"
      }
    },
    {
      "cell_type": "markdown",
      "source": [
        "1. **Upload DataFrame**"
      ],
      "metadata": {
        "id": "2WIy69MzUR1C"
      }
    },
    {
      "cell_type": "code",
      "source": [
        "import pandas as pd\n",
        "\n",
        "df_AN = pd.read_csv('/content/drive/MyDrive/dataset/cs_search.csv')\n",
        "df_LY = pd.read_csv('/content/drive/MyDrive/dataset/cs_fs_lastyear.csv')\n",
        "df_PY = pd.read_csv('/content/drive/MyDrive/dataset/cs_fs_prevyear.csv')\n",
        "df_PPY = pd.read_csv('/content/drive/MyDrive/dataset/cs_fs_prevprevyear.csv')\n",
        "\n"
      ],
      "metadata": {
        "id": "e27T0QXYIdJ9"
      },
      "execution_count": 1,
      "outputs": []
    },
    {
      "cell_type": "code",
      "source": [
        "df_AN.set_index('id')\n",
        "df_LY.set_index('companyId')\n",
        "df_PY.set_index('companyId')\n",
        "df_PPY.set_index('companyId')"
      ],
      "metadata": {
        "id": "TRpQKxf1JxTr"
      },
      "execution_count": null,
      "outputs": []
    },
    {
      "cell_type": "markdown",
      "source": [
        "2. **Concat DataFrame Financial - Anagraphic**"
      ],
      "metadata": {
        "id": "Y39LEuFtU2ya"
      }
    },
    {
      "cell_type": "code",
      "source": [
        "df_res_LY = df_AN.join(df_LY, lsuffix='_AN', rsuffix='_LY')"
      ],
      "metadata": {
        "id": "n2mQi7tdJqvJ"
      },
      "execution_count": 6,
      "outputs": []
    },
    {
      "cell_type": "code",
      "source": [
        "df_res_PY = df_AN.join(df_PY, lsuffix='_AN', rsuffix='_PY')"
      ],
      "metadata": {
        "id": "qAlHc9-fK3KT"
      },
      "execution_count": 7,
      "outputs": []
    },
    {
      "cell_type": "code",
      "source": [
        "df_res_PPY = df_AN.join(df_PPY, lsuffix='_AN', rsuffix='_PPY')"
      ],
      "metadata": {
        "id": "a80ee7h-UBdH"
      },
      "execution_count": 8,
      "outputs": []
    },
    {
      "cell_type": "markdown",
      "source": [
        "3. **Duplicates Drop**"
      ],
      "metadata": {
        "id": "oEPrB186VlQI"
      }
    },
    {
      "cell_type": "code",
      "source": [
        "df_res_LY = df_res_LY.loc[:,~df_res_LY.columns.duplicated()].copy()"
      ],
      "metadata": {
        "id": "qlT7Sn0YVSEx"
      },
      "execution_count": 9,
      "outputs": []
    },
    {
      "cell_type": "code",
      "source": [
        "df_res_PY = df_res_PY.loc[:,~df_res_PY.columns.duplicated()].copy()"
      ],
      "metadata": {
        "id": "g1b8eCFKVqHi"
      },
      "execution_count": 10,
      "outputs": []
    },
    {
      "cell_type": "code",
      "source": [
        "df_res_PPY = df_res_PPY.loc[:,~df_res_PPY.columns.duplicated()].copy()"
      ],
      "metadata": {
        "id": "_s_-n3VuVulf"
      },
      "execution_count": 11,
      "outputs": []
    },
    {
      "cell_type": "markdown",
      "source": [
        "4. **Unique values drop**"
      ],
      "metadata": {
        "id": "ReNIYjYjXpS4"
      }
    },
    {
      "cell_type": "code",
      "source": [
        "nunique = df_res_LY.nunique()\n",
        "cols_to_drop = nunique[nunique == 1].index\n",
        "df_res_LY = df_res_LY.drop(cols_to_drop, axis=1)"
      ],
      "metadata": {
        "id": "s0HBPE04XoyF"
      },
      "execution_count": 12,
      "outputs": []
    },
    {
      "cell_type": "code",
      "source": [
        "nunique = df_res_PY.nunique()\n",
        "cols_to_drop = nunique[nunique == 1].index\n",
        "df_res_PY = df_res_PY.drop(cols_to_drop, axis=1)"
      ],
      "metadata": {
        "id": "h8k-s8OFYeGG"
      },
      "execution_count": 13,
      "outputs": []
    },
    {
      "cell_type": "code",
      "source": [
        "nunique = df_res_PPY.nunique()\n",
        "cols_to_drop = nunique[nunique == 1].index\n",
        "df_res_PPY = df_res_PPY.drop(cols_to_drop, axis=1)"
      ],
      "metadata": {
        "id": "4bbrOmTvZMBa"
      },
      "execution_count": 14,
      "outputs": []
    },
    {
      "cell_type": "markdown",
      "source": [
        "5. **Categorical Columns Identification**"
      ],
      "metadata": {
        "id": "0D6tcAA3Zhiw"
      }
    },
    {
      "cell_type": "code",
      "source": [
        "cols = df_res_LY.columns\n",
        "num_cols = df_res_LY._get_numeric_data().columns\n",
        "cat_cols = list(set(cols) - set(num_cols))"
      ],
      "metadata": {
        "id": "TVX-ctIdZnkb"
      },
      "execution_count": 15,
      "outputs": []
    },
    {
      "cell_type": "markdown",
      "source": [
        "6. **Numeric Columns Identification**"
      ],
      "metadata": {
        "id": "Wchofm2eacTt"
      }
    },
    {
      "cell_type": "code",
      "source": [
        "num_cols = df_res_LY._get_numeric_data()"
      ],
      "metadata": {
        "id": "TPBRexKBabmq"
      },
      "execution_count": 16,
      "outputs": []
    },
    {
      "cell_type": "markdown",
      "source": [
        "7. **Encoding One Hot Categorical Columns**"
      ],
      "metadata": {
        "id": "GEYURXH5wwqc"
      }
    },
    {
      "cell_type": "code",
      "source": [
        "#df with only categorical features\n",
        "cat_df = pd.DataFrame()\n",
        "for i in cat_cols:\n",
        "  cat_df[i] = df_res_PY[i]"
      ],
      "metadata": {
        "id": "QsS7Ovz4wv88"
      },
      "execution_count": 17,
      "outputs": []
    },
    {
      "cell_type": "code",
      "source": [
        "#one hot office type\n",
        "onehot_OT_PY = pd.get_dummies(cat_df['officeType'])"
      ],
      "metadata": {
        "id": "aQclM5zPyTYm"
      },
      "execution_count": 18,
      "outputs": []
    },
    {
      "cell_type": "code",
      "source": [
        "#one hot province\n",
        "onehot_PR_PY = pd.get_dummies(cat_df['address.province'])"
      ],
      "metadata": {
        "id": "axqggP1WePwD"
      },
      "execution_count": 19,
      "outputs": []
    },
    {
      "cell_type": "markdown",
      "source": [
        "8. **Scaling and Normalization num_cols**"
      ],
      "metadata": {
        "id": "uyBlHSxqzow9"
      }
    },
    {
      "cell_type": "code",
      "source": [
        "#df_LY with only numerical features\n",
        "num_df_LY = df_res_LY\n",
        "for i in cat_cols:\n",
        "  num_df_LY = num_df_LY.drop([i], axis = 1)"
      ],
      "metadata": {
        "id": "QtjZI55p0Q8m"
      },
      "execution_count": 20,
      "outputs": []
    },
    {
      "cell_type": "code",
      "source": [
        "from sklearn import preprocessing\n",
        "\n",
        "#Normalization of LY\n",
        "x = num_df_LY.values\n",
        "min_max_scaler = preprocessing.MinMaxScaler()\n",
        "x_scaled = min_max_scaler.fit_transform(x)\n",
        "\n",
        "norm_df_LY = pd.DataFrame(x_scaled)"
      ],
      "metadata": {
        "id": "JWl7F1ONzwLv"
      },
      "execution_count": 21,
      "outputs": []
    },
    {
      "cell_type": "code",
      "source": [
        "#df_PY with only numerical features\n",
        "num_df_PY = df_res_PY\n",
        "for i in cat_cols:\n",
        "  num_df_PY = num_df_PY.drop([i], axis = 1)"
      ],
      "metadata": {
        "id": "V0vw0ez4hrdL"
      },
      "execution_count": 22,
      "outputs": []
    },
    {
      "cell_type": "code",
      "source": [
        "#Normalization of PY\n",
        "\n",
        "x = num_df_PY.values\n",
        "min_max_scaler = preprocessing.MinMaxScaler()\n",
        "x_scaled = min_max_scaler.fit_transform(x)\n",
        "\n",
        "norm_df_PY = pd.DataFrame(x_scaled)"
      ],
      "metadata": {
        "id": "fJ5HwN6uh2pT"
      },
      "execution_count": 23,
      "outputs": []
    },
    {
      "cell_type": "code",
      "source": [
        "#df_PPY with only numerical features\n",
        "\n",
        "num_df_PPY = df_res_PPY\n",
        "for i in cat_cols:\n",
        "  num_df_PPY = num_df_PPY.drop([i], axis = 1)"
      ],
      "metadata": {
        "id": "W-GySwAFiN9g"
      },
      "execution_count": 24,
      "outputs": []
    },
    {
      "cell_type": "code",
      "source": [
        "#Normalization of PPY\n",
        "\n",
        "x = num_df_PPY.values\n",
        "min_max_scaler = preprocessing.MinMaxScaler()\n",
        "x_scaled = min_max_scaler.fit_transform(x)\n",
        "\n",
        "norm_df_PPY = pd.DataFrame(x_scaled)"
      ],
      "metadata": {
        "id": "zoS2LDlXiUzQ"
      },
      "execution_count": 25,
      "outputs": []
    },
    {
      "cell_type": "markdown",
      "source": [
        "# Pipeline 2 - Training"
      ],
      "metadata": {
        "id": "vkENIHOf467D"
      }
    },
    {
      "cell_type": "markdown",
      "source": [
        "1. **Target = 'profitAndLoss.revenue' (Fatturato)**"
      ],
      "metadata": {
        "id": "0vqUzTuBJ2bw"
      }
    },
    {
      "cell_type": "markdown",
      "source": [
        "2. **PCA**"
      ],
      "metadata": {
        "id": "eWMHt36c6X2s"
      }
    },
    {
      "cell_type": "code",
      "source": [
        "import numpy as np\n",
        "from sklearn.decomposition import PCA\n",
        "\n",
        "#Replace NaN with mean of column PY\n",
        "for col in norm_df_PY:\n",
        "  norm_df_PY[col].fillna(value=norm_df_PY[col].mean(), inplace=True)"
      ],
      "metadata": {
        "id": "ePaQ9OZT8H-L"
      },
      "execution_count": 41,
      "outputs": []
    },
    {
      "cell_type": "code",
      "source": [
        "import numpy as np\n",
        "from sklearn.decomposition import PCA\n",
        "\n",
        "#Replace NaN with mean of column PPY\n",
        "for col in norm_df_PPY:\n",
        "  norm_df_PPY[col].fillna(value=norm_df_PPY[col].mean(), inplace=True)"
      ],
      "metadata": {
        "id": "ONeqqymjrwh6"
      },
      "execution_count": 42,
      "outputs": []
    },
    {
      "cell_type": "code",
      "source": [
        "#Concat PY and PPY\n",
        "years = [norm_df_PY, norm_df_PPY]\n",
        "norm_df_fin = pd.concat(years, axis=1, join='inner')\n",
        "norm_df_fin.head()"
      ],
      "metadata": {
        "colab": {
          "base_uri": "https://localhost:8080/",
          "height": 300
        },
        "id": "S8pC3md8tLKp",
        "outputId": "e0542952-c484-43ce-c478-b79d4d227b8f"
      },
      "execution_count": 43,
      "outputs": [
        {
          "output_type": "execute_result",
          "data": {
            "text/plain": [
              "         0    1         2         3    4         5         6         7   \\\n",
              "0  0.000000  0.0  0.123744  0.001153  0.0  0.000019  0.000019  0.230992   \n",
              "1  0.002217  0.0  0.006638  0.001061  0.0  1.000000  1.000000  1.000000   \n",
              "2  0.004435  0.0  0.006638  0.001612  0.0  0.812360  0.823238  0.169566   \n",
              "3  0.006652  0.0  0.006638  0.001102  0.0  0.397336  0.400181  0.357097   \n",
              "4  0.008869  0.0  0.006586  0.001561  0.0  0.100532  0.098797  0.417713   \n",
              "\n",
              "         8         9   ...        68        69        70        71        72  \\\n",
              "0  0.000230  0.000027  ...  0.037276  0.016274  0.031510  0.032343  0.012094   \n",
              "1  0.000000  0.000000  ...  0.000000  0.000000  0.000000  0.000000  0.005376   \n",
              "2  0.043089  0.018758  ...  0.037276  0.016274  0.031510  0.032343  0.003387   \n",
              "3  0.101165  0.047178  ...  0.189612  0.015664  0.404025  0.000000  0.250840   \n",
              "4  0.059295  0.025842  ...  0.037276  0.005601  0.063714  0.032343  0.000145   \n",
              "\n",
              "         73        74        75        76        77  \n",
              "0  0.018433  0.063295  0.041453  0.097083  0.002691  \n",
              "1  1.000000  0.000000  1.000000  0.000000  0.000007  \n",
              "2  0.451223  0.063295  0.451223  0.097083  0.000006  \n",
              "3  0.223229  0.873404  0.724152  0.097083  0.000013  \n",
              "4  0.018433  1.000000  0.573530  0.097083  0.000048  \n",
              "\n",
              "[5 rows x 158 columns]"
            ],
            "text/html": [
              "\n",
              "  <div id=\"df-e459b562-b171-4d7b-aa30-c5c42436869c\">\n",
              "    <div class=\"colab-df-container\">\n",
              "      <div>\n",
              "<style scoped>\n",
              "    .dataframe tbody tr th:only-of-type {\n",
              "        vertical-align: middle;\n",
              "    }\n",
              "\n",
              "    .dataframe tbody tr th {\n",
              "        vertical-align: top;\n",
              "    }\n",
              "\n",
              "    .dataframe thead th {\n",
              "        text-align: right;\n",
              "    }\n",
              "</style>\n",
              "<table border=\"1\" class=\"dataframe\">\n",
              "  <thead>\n",
              "    <tr style=\"text-align: right;\">\n",
              "      <th></th>\n",
              "      <th>0</th>\n",
              "      <th>1</th>\n",
              "      <th>2</th>\n",
              "      <th>3</th>\n",
              "      <th>4</th>\n",
              "      <th>5</th>\n",
              "      <th>6</th>\n",
              "      <th>7</th>\n",
              "      <th>8</th>\n",
              "      <th>9</th>\n",
              "      <th>...</th>\n",
              "      <th>68</th>\n",
              "      <th>69</th>\n",
              "      <th>70</th>\n",
              "      <th>71</th>\n",
              "      <th>72</th>\n",
              "      <th>73</th>\n",
              "      <th>74</th>\n",
              "      <th>75</th>\n",
              "      <th>76</th>\n",
              "      <th>77</th>\n",
              "    </tr>\n",
              "  </thead>\n",
              "  <tbody>\n",
              "    <tr>\n",
              "      <th>0</th>\n",
              "      <td>0.000000</td>\n",
              "      <td>0.0</td>\n",
              "      <td>0.123744</td>\n",
              "      <td>0.001153</td>\n",
              "      <td>0.0</td>\n",
              "      <td>0.000019</td>\n",
              "      <td>0.000019</td>\n",
              "      <td>0.230992</td>\n",
              "      <td>0.000230</td>\n",
              "      <td>0.000027</td>\n",
              "      <td>...</td>\n",
              "      <td>0.037276</td>\n",
              "      <td>0.016274</td>\n",
              "      <td>0.031510</td>\n",
              "      <td>0.032343</td>\n",
              "      <td>0.012094</td>\n",
              "      <td>0.018433</td>\n",
              "      <td>0.063295</td>\n",
              "      <td>0.041453</td>\n",
              "      <td>0.097083</td>\n",
              "      <td>0.002691</td>\n",
              "    </tr>\n",
              "    <tr>\n",
              "      <th>1</th>\n",
              "      <td>0.002217</td>\n",
              "      <td>0.0</td>\n",
              "      <td>0.006638</td>\n",
              "      <td>0.001061</td>\n",
              "      <td>0.0</td>\n",
              "      <td>1.000000</td>\n",
              "      <td>1.000000</td>\n",
              "      <td>1.000000</td>\n",
              "      <td>0.000000</td>\n",
              "      <td>0.000000</td>\n",
              "      <td>...</td>\n",
              "      <td>0.000000</td>\n",
              "      <td>0.000000</td>\n",
              "      <td>0.000000</td>\n",
              "      <td>0.000000</td>\n",
              "      <td>0.005376</td>\n",
              "      <td>1.000000</td>\n",
              "      <td>0.000000</td>\n",
              "      <td>1.000000</td>\n",
              "      <td>0.000000</td>\n",
              "      <td>0.000007</td>\n",
              "    </tr>\n",
              "    <tr>\n",
              "      <th>2</th>\n",
              "      <td>0.004435</td>\n",
              "      <td>0.0</td>\n",
              "      <td>0.006638</td>\n",
              "      <td>0.001612</td>\n",
              "      <td>0.0</td>\n",
              "      <td>0.812360</td>\n",
              "      <td>0.823238</td>\n",
              "      <td>0.169566</td>\n",
              "      <td>0.043089</td>\n",
              "      <td>0.018758</td>\n",
              "      <td>...</td>\n",
              "      <td>0.037276</td>\n",
              "      <td>0.016274</td>\n",
              "      <td>0.031510</td>\n",
              "      <td>0.032343</td>\n",
              "      <td>0.003387</td>\n",
              "      <td>0.451223</td>\n",
              "      <td>0.063295</td>\n",
              "      <td>0.451223</td>\n",
              "      <td>0.097083</td>\n",
              "      <td>0.000006</td>\n",
              "    </tr>\n",
              "    <tr>\n",
              "      <th>3</th>\n",
              "      <td>0.006652</td>\n",
              "      <td>0.0</td>\n",
              "      <td>0.006638</td>\n",
              "      <td>0.001102</td>\n",
              "      <td>0.0</td>\n",
              "      <td>0.397336</td>\n",
              "      <td>0.400181</td>\n",
              "      <td>0.357097</td>\n",
              "      <td>0.101165</td>\n",
              "      <td>0.047178</td>\n",
              "      <td>...</td>\n",
              "      <td>0.189612</td>\n",
              "      <td>0.015664</td>\n",
              "      <td>0.404025</td>\n",
              "      <td>0.000000</td>\n",
              "      <td>0.250840</td>\n",
              "      <td>0.223229</td>\n",
              "      <td>0.873404</td>\n",
              "      <td>0.724152</td>\n",
              "      <td>0.097083</td>\n",
              "      <td>0.000013</td>\n",
              "    </tr>\n",
              "    <tr>\n",
              "      <th>4</th>\n",
              "      <td>0.008869</td>\n",
              "      <td>0.0</td>\n",
              "      <td>0.006586</td>\n",
              "      <td>0.001561</td>\n",
              "      <td>0.0</td>\n",
              "      <td>0.100532</td>\n",
              "      <td>0.098797</td>\n",
              "      <td>0.417713</td>\n",
              "      <td>0.059295</td>\n",
              "      <td>0.025842</td>\n",
              "      <td>...</td>\n",
              "      <td>0.037276</td>\n",
              "      <td>0.005601</td>\n",
              "      <td>0.063714</td>\n",
              "      <td>0.032343</td>\n",
              "      <td>0.000145</td>\n",
              "      <td>0.018433</td>\n",
              "      <td>1.000000</td>\n",
              "      <td>0.573530</td>\n",
              "      <td>0.097083</td>\n",
              "      <td>0.000048</td>\n",
              "    </tr>\n",
              "  </tbody>\n",
              "</table>\n",
              "<p>5 rows × 158 columns</p>\n",
              "</div>\n",
              "      <button class=\"colab-df-convert\" onclick=\"convertToInteractive('df-e459b562-b171-4d7b-aa30-c5c42436869c')\"\n",
              "              title=\"Convert this dataframe to an interactive table.\"\n",
              "              style=\"display:none;\">\n",
              "        \n",
              "  <svg xmlns=\"http://www.w3.org/2000/svg\" height=\"24px\"viewBox=\"0 0 24 24\"\n",
              "       width=\"24px\">\n",
              "    <path d=\"M0 0h24v24H0V0z\" fill=\"none\"/>\n",
              "    <path d=\"M18.56 5.44l.94 2.06.94-2.06 2.06-.94-2.06-.94-.94-2.06-.94 2.06-2.06.94zm-11 1L8.5 8.5l.94-2.06 2.06-.94-2.06-.94L8.5 2.5l-.94 2.06-2.06.94zm10 10l.94 2.06.94-2.06 2.06-.94-2.06-.94-.94-2.06-.94 2.06-2.06.94z\"/><path d=\"M17.41 7.96l-1.37-1.37c-.4-.4-.92-.59-1.43-.59-.52 0-1.04.2-1.43.59L10.3 9.45l-7.72 7.72c-.78.78-.78 2.05 0 2.83L4 21.41c.39.39.9.59 1.41.59.51 0 1.02-.2 1.41-.59l7.78-7.78 2.81-2.81c.8-.78.8-2.07 0-2.86zM5.41 20L4 18.59l7.72-7.72 1.47 1.35L5.41 20z\"/>\n",
              "  </svg>\n",
              "      </button>\n",
              "      \n",
              "  <style>\n",
              "    .colab-df-container {\n",
              "      display:flex;\n",
              "      flex-wrap:wrap;\n",
              "      gap: 12px;\n",
              "    }\n",
              "\n",
              "    .colab-df-convert {\n",
              "      background-color: #E8F0FE;\n",
              "      border: none;\n",
              "      border-radius: 50%;\n",
              "      cursor: pointer;\n",
              "      display: none;\n",
              "      fill: #1967D2;\n",
              "      height: 32px;\n",
              "      padding: 0 0 0 0;\n",
              "      width: 32px;\n",
              "    }\n",
              "\n",
              "    .colab-df-convert:hover {\n",
              "      background-color: #E2EBFA;\n",
              "      box-shadow: 0px 1px 2px rgba(60, 64, 67, 0.3), 0px 1px 3px 1px rgba(60, 64, 67, 0.15);\n",
              "      fill: #174EA6;\n",
              "    }\n",
              "\n",
              "    [theme=dark] .colab-df-convert {\n",
              "      background-color: #3B4455;\n",
              "      fill: #D2E3FC;\n",
              "    }\n",
              "\n",
              "    [theme=dark] .colab-df-convert:hover {\n",
              "      background-color: #434B5C;\n",
              "      box-shadow: 0px 1px 3px 1px rgba(0, 0, 0, 0.15);\n",
              "      filter: drop-shadow(0px 1px 2px rgba(0, 0, 0, 0.3));\n",
              "      fill: #FFFFFF;\n",
              "    }\n",
              "  </style>\n",
              "\n",
              "      <script>\n",
              "        const buttonEl =\n",
              "          document.querySelector('#df-e459b562-b171-4d7b-aa30-c5c42436869c button.colab-df-convert');\n",
              "        buttonEl.style.display =\n",
              "          google.colab.kernel.accessAllowed ? 'block' : 'none';\n",
              "\n",
              "        async function convertToInteractive(key) {\n",
              "          const element = document.querySelector('#df-e459b562-b171-4d7b-aa30-c5c42436869c');\n",
              "          const dataTable =\n",
              "            await google.colab.kernel.invokeFunction('convertToInteractive',\n",
              "                                                     [key], {});\n",
              "          if (!dataTable) return;\n",
              "\n",
              "          const docLinkHtml = 'Like what you see? Visit the ' +\n",
              "            '<a target=\"_blank\" href=https://colab.research.google.com/notebooks/data_table.ipynb>data table notebook</a>'\n",
              "            + ' to learn more about interactive tables.';\n",
              "          element.innerHTML = '';\n",
              "          dataTable['output_type'] = 'display_data';\n",
              "          await google.colab.output.renderOutput(dataTable, element);\n",
              "          const docLink = document.createElement('div');\n",
              "          docLink.innerHTML = docLinkHtml;\n",
              "          element.appendChild(docLink);\n",
              "        }\n",
              "      </script>\n",
              "    </div>\n",
              "  </div>\n",
              "  "
            ]
          },
          "metadata": {},
          "execution_count": 43
        }
      ]
    },
    {
      "cell_type": "markdown",
      "source": [
        "3. **PCA: 50, 80, 95% of Variance**"
      ],
      "metadata": {
        "id": "GMYDtR5jLcDE"
      }
    },
    {
      "cell_type": "code",
      "source": [
        "#PCA 50% + Y \n",
        "pca1 = PCA(n_components=0.50)\n",
        "pca1.fit(norm_df_PY)\n",
        "columns = ['PC_%i' % i for i in range(5)]\n",
        "df_pca_PY_50  = pd.DataFrame(pca1.transform(norm_df_PY), columns=columns, index=norm_df_PY.index)"
      ],
      "metadata": {
        "id": "59aiAUpYenP9"
      },
      "execution_count": 65,
      "outputs": []
    },
    {
      "cell_type": "code",
      "source": [
        "#PCA 80% + Y\n",
        "pca2 = PCA(n_components=0.80)\n",
        "pca2.fit(norm_df_PY)\n",
        "columns = ['PC_%i' % i for i in range(14)]\n",
        "df_pca_PY_80  = pd.DataFrame(pca2.transform(norm_df_PY), columns=columns, index=norm_df_PY.index)"
      ],
      "metadata": {
        "id": "9eJvbnkTjRjM"
      },
      "execution_count": 66,
      "outputs": []
    },
    {
      "cell_type": "code",
      "source": [
        "#PCA 95%\n",
        "pca3 = PCA(n_components=0.95)\n",
        "pca3.fit(norm_df_PY)\n",
        "columns = ['PC_%i' % i for i in range(29)]\n",
        "df_pca_PY  = pd.DataFrame(pca3.transform(norm_df_PY), columns=columns, index=norm_df_PY.index)"
      ],
      "metadata": {
        "id": "mqtESkM_jZ6n"
      },
      "execution_count": 67,
      "outputs": []
    },
    {
      "cell_type": "code",
      "source": [
        "import matplotlib.pyplot as plt\n",
        "plt.rcParams[\"figure.figsize\"] = (12,6)\n",
        "\n",
        "fig, ax = plt.subplots()\n",
        "xi = np.arange(1, 30, step=1)\n",
        "y = np.cumsum(pca3.explained_variance_ratio_)\n",
        "\n",
        "plt.ylim(0.0,1.1)\n",
        "plt.plot(xi, y, marker='o', linestyle='--', color='b')\n",
        "\n",
        "plt.xlabel('Number of Components')\n",
        "\n",
        "#change from 0-based array index to 1-based human-readable label\n",
        "plt.xticks(np.arange(0, 30, step=1))\n",
        "plt.ylabel('Cumulative variance (%)')\n",
        "plt.title('The number of components needed to explain variance')\n",
        "\n",
        "plt.axhline(y=0.95, color='r', linestyle='-')\n",
        "plt.text(0.5, 0.85, '95% cut-off threshold', color = 'red', fontsize=16)\n",
        "\n",
        "ax.grid(axis='x')\n",
        "plt.show()"
      ],
      "metadata": {
        "colab": {
          "base_uri": "https://localhost:8080/",
          "height": 404
        },
        "id": "Pxj-4YDynziB",
        "outputId": "58bb50e1-00f7-444d-914a-af480d27f443"
      },
      "execution_count": 68,
      "outputs": [
        {
          "output_type": "display_data",
          "data": {
            "text/plain": [
              "<Figure size 864x432 with 1 Axes>"
            ],
            "image/png": "[encoded data removed]"
          },
          "metadata": {
            "needs_background": "light"
          }
        }
      ]
    },
    {
      "cell_type": "markdown",
      "source": [
        "4. **Add Y target column**"
      ],
      "metadata": {
        "id": "lYg24kPSY-7q"
      }
    },
    {
      "cell_type": "code",
      "source": [
        "df_pca_PY_50['Y'] = norm_df_LY[4]\n",
        "df_pca_PY_80['Y'] = norm_df_LY[4]\n",
        "df_pca_PY['Y'] = norm_df_LY[4]"
      ],
      "metadata": {
        "id": "nESprukAZC9M"
      },
      "execution_count": null,
      "outputs": []
    },
    {
      "cell_type": "markdown",
      "source": [
        "5. **PCA on PY + PPY**"
      ],
      "metadata": {
        "id": "ZRyu_myyPc20"
      }
    },
    {
      "cell_type": "code",
      "source": [
        "#PCA 95% + Y with PY + PPY\n",
        "pca4 = PCA(n_components=0.95)\n",
        "pca4.fit(norm_df_fin)\n",
        "columns = ['PC_%i' % i for i in range(49)]\n",
        "df_pca_fin  = pd.DataFrame(pca3.transform(norm_df_fin), columns=columns, index=norm_df_fin.index)\n",
        "df_pca_fin['Y'] = norm_df_LY[4]"
      ],
      "metadata": {
        "id": "P8yhr1ryPm14"
      },
      "execution_count": null,
      "outputs": []
    },
    {
      "cell_type": "markdown",
      "source": [
        "**5. Train Test Split on PY**"
      ],
      "metadata": {
        "id": "OdXRSKXqDKoC"
      }
    },
    {
      "cell_type": "code",
      "source": [
        "from sklearn.model_selection import train_test_split\n",
        "\n",
        "X = df_pca_PY.iloc[:, 0:29]\n",
        "y = df_pca_PY.iloc[:, 29]\n",
        "X_train, X_test, y_train, y_test = train_test_split(X, y, test_size=0.2)"
      ],
      "metadata": {
        "id": "K7c5WcFcCiyE"
      },
      "execution_count": 74,
      "outputs": []
    },
    {
      "cell_type": "markdown",
      "source": [
        "#LR - Benchmark"
      ],
      "metadata": {
        "id": "op9D0wTZ_VJK"
      }
    },
    {
      "cell_type": "code",
      "source": [
        "import numpy as np\n",
        "from sklearn.linear_model import LinearRegression\n",
        "\n",
        "lreg = LinearRegression(n_jobs = 2)\n",
        "lreg.fit(X_train, y_train)\n",
        "sc_lr = lreg.score(X_test, y_test)\n",
        "print('Accuracy: ' + str(sc_lr))"
      ],
      "metadata": {
        "id": "ITGeVUtQ_UYx",
        "colab": {
          "base_uri": "https://localhost:8080/"
        },
        "outputId": "51294d87-00c7-4f7b-f222-236054bb1344"
      },
      "execution_count": 75,
      "outputs": [
        {
          "output_type": "stream",
          "name": "stdout",
          "text": [
            "Accuracy: 0.8022686399016026\n"
          ]
        }
      ]
    },
    {
      "cell_type": "markdown",
      "source": [
        "***Linear Regression - K-Fold Validation***"
      ],
      "metadata": {
        "id": "COUDKFmP0Fy3"
      }
    },
    {
      "cell_type": "code",
      "source": [
        "from numpy.ma.core import absolute\n",
        "from sklearn.model_selection import cross_val_score\n",
        "from sklearn.model_selection import KFold\n",
        "\n",
        "X = df_pca_PY.iloc[:, 0:29]\n",
        "y = df_pca_PY.iloc[:, 29]\n",
        "cv = KFold(n_splits=10, random_state=1, shuffle=True)\n",
        "scores = cross_val_score(lreg, X, y, scoring='neg_mean_squared_error',\n",
        "                         cv=cv, n_jobs=2)\n",
        "np.mean(absolute(scores))"
      ],
      "metadata": {
        "colab": {
          "base_uri": "https://localhost:8080/"
        },
        "id": "Lo8Q4Icw0Lbg",
        "outputId": "d319f47e-fda5-419b-f7fb-c00316f16378"
      },
      "execution_count": 58,
      "outputs": [
        {
          "output_type": "execute_result",
          "data": {
            "text/plain": [
              "0.0014511668505116932"
            ]
          },
          "metadata": {},
          "execution_count": 58
        }
      ]
    },
    {
      "cell_type": "markdown",
      "source": [
        "***Linear Regression - Log-Scale Plot***"
      ],
      "metadata": {
        "id": "Fd9YdpSovgL9"
      }
    },
    {
      "cell_type": "code",
      "source": [
        "y_pred_lr = lreg.predict(X_test) #predictions on test data\n",
        "x = np.log(y_pred_lr)\n",
        "y = np.log(y_test)\n",
        "\n",
        "plt.scatter(x, y)\n",
        "plt.plot(x, x, color='red')\n",
        "plt.show()"
      ],
      "metadata": {
        "id": "aggszIAZqTP9",
        "colab": {
          "base_uri": "https://localhost:8080/",
          "height": 465
        },
        "outputId": "92844a00-ea11-44b6-ebc7-32c27c8d3851"
      },
      "execution_count": 76,
      "outputs": [
        {
          "output_type": "stream",
          "name": "stderr",
          "text": [
            "/usr/local/lib/python3.7/dist-packages/ipykernel_launcher.py:2: RuntimeWarning: invalid value encountered in log\n",
            "  \n",
            "/usr/local/lib/python3.7/dist-packages/pandas/core/arraylike.py:364: RuntimeWarning: divide by zero encountered in log\n",
            "  result = getattr(ufunc, method)(*inputs, **kwargs)\n"
          ]
        },
        {
          "output_type": "display_data",
          "data": {
            "text/plain": [
              "<Figure size 864x432 with 1 Axes>"
            ],
            "image/png": "[encoded data removed]"
          },
          "metadata": {
            "needs_background": "light"
          }
        }
      ]
    },
    {
      "cell_type": "markdown",
      "source": [
        "#SVM - Regressor"
      ],
      "metadata": {
        "id": "dRJky_JZw1Oh"
      }
    },
    {
      "cell_type": "code",
      "source": [
        "from sklearn.svm import SVR\n",
        "\n",
        "svr = SVR(gamma='auto', C=1, epsilon=0.01)\n",
        "svr.fit(X_train, y_train)\n",
        "sc_svr = svr.score(X_test, y_test)\n",
        "print('Accuracy: ' + str(sc_svr))"
      ],
      "metadata": {
        "id": "iQMDcKsCw6QI",
        "colab": {
          "base_uri": "https://localhost:8080/"
        },
        "outputId": "d22dd601-88e5-4629-ab95-a50037b422ce"
      },
      "execution_count": null,
      "outputs": [
        {
          "output_type": "stream",
          "name": "stdout",
          "text": [
            "Accuracy: -0.19555387226524013\n"
          ]
        }
      ]
    },
    {
      "cell_type": "markdown",
      "source": [
        "***SVR - K-Fold Validation***"
      ],
      "metadata": {
        "id": "PfiZ87gz2CCX"
      }
    },
    {
      "cell_type": "code",
      "source": [
        "X = df_pca_PY.iloc[:, 0:29]\n",
        "y = df_pca_PY.iloc[:, 29]\n",
        "cv = KFold(n_splits=10, random_state=1, shuffle=True)\n",
        "scores = cross_val_score(svr, X, y, scoring='neg_mean_squared_error',\n",
        "                         cv=cv, n_jobs=2)\n",
        "np.mean(absolute(scores))"
      ],
      "metadata": {
        "colab": {
          "base_uri": "https://localhost:8080/"
        },
        "id": "D8LiUdaB122e",
        "outputId": "bf3c587a-7cdb-44ca-9fde-42cdadcfe667"
      },
      "execution_count": null,
      "outputs": [
        {
          "output_type": "execute_result",
          "data": {
            "text/plain": [
              "0.0021108125435485912"
            ]
          },
          "metadata": {},
          "execution_count": 42
        }
      ]
    },
    {
      "cell_type": "markdown",
      "source": [
        "***SVR - Log-Scale Plot***"
      ],
      "metadata": {
        "id": "QuRstmCvy3O_"
      }
    },
    {
      "cell_type": "code",
      "source": [
        "y_pred_svr = svr.predict(X_test)\n",
        "x = np.log(y_pred_svr)\n",
        "y = np.log(y_test)\n",
        "\n",
        "plt.scatter(x, y)\n",
        "plt.plot(x, x, color='red')\n",
        "plt.show()"
      ],
      "metadata": {
        "id": "Nrb_Skw8y7Yn",
        "colab": {
          "base_uri": "https://localhost:8080/"
        },
        "outputId": "e31c02cb-b330-4b71-f09b-3d522de33d5a"
      },
      "execution_count": null,
      "outputs": [
        {
          "output_type": "display_data",
          "data": {
            "text/plain": [
              "<Figure size 864x432 with 1 Axes>"
            ],
            "image/png": "[encoded data removed]"
          },
          "metadata": {
            "needs_background": "light"
          }
        }
      ]
    },
    {
      "cell_type": "markdown",
      "source": [
        "# RF - Regressor"
      ],
      "metadata": {
        "id": "Itc0xPPo_EvS"
      }
    },
    {
      "cell_type": "code",
      "source": [
        "from sklearn.ensemble import RandomForestRegressor\n",
        "\n",
        "rfr = RandomForestRegressor(n_jobs = 2, random_state=0)\n",
        "rfr.fit(X_train, y_train)\n",
        "sc_rfr = rfr.score(X_test, y_test)\n",
        "print('Accuracy: ' + str(sc_rfr))"
      ],
      "metadata": {
        "id": "-_vGtoUN_aXa",
        "colab": {
          "base_uri": "https://localhost:8080/"
        },
        "outputId": "d8e827d0-36b9-4642-c9cb-db3cf86aad27"
      },
      "execution_count": null,
      "outputs": [
        {
          "output_type": "stream",
          "name": "stdout",
          "text": [
            "Accuracy: -0.2503058078526128\n"
          ]
        }
      ]
    },
    {
      "cell_type": "markdown",
      "source": [
        "***RF - K-Fold Validation***"
      ],
      "metadata": {
        "id": "ybD0EQYq2Da3"
      }
    },
    {
      "cell_type": "code",
      "source": [
        "X = df_pca_PY.iloc[:, 0:29]\n",
        "y = df_pca_PY.iloc[:, 29]\n",
        "cv = KFold(n_splits=10, random_state=1, shuffle=True)\n",
        "scores = cross_val_score(rfr, X, y, scoring='neg_mean_squared_error',\n",
        "                         cv=cv, n_jobs=2)\n",
        "np.mean(absolute(scores))"
      ],
      "metadata": {
        "colab": {
          "base_uri": "https://localhost:8080/"
        },
        "id": "UPfnQWlk2Gwq",
        "outputId": "97401f93-7f40-480e-8825-4a2de0131c62"
      },
      "execution_count": null,
      "outputs": [
        {
          "output_type": "execute_result",
          "data": {
            "text/plain": [
              "0.0025137292789003214"
            ]
          },
          "metadata": {},
          "execution_count": 45
        }
      ]
    },
    {
      "cell_type": "markdown",
      "source": [
        "***RANDOM FOREST - Log-Scale Plot***"
      ],
      "metadata": {
        "id": "7OlWQaHaAHdD"
      }
    },
    {
      "cell_type": "code",
      "source": [
        "y_pred_rfr = rfr.predict(X_test)\n",
        "x = np.log(y_pred_rfr)\n",
        "y = np.log(y_test)\n",
        "\n",
        "plt.scatter(x, y)\n",
        "plt.plot(x, x, color='red')\n",
        "plt.show()"
      ],
      "metadata": {
        "id": "DcI_JuMhAG5K",
        "colab": {
          "base_uri": "https://localhost:8080/"
        },
        "outputId": "0a7aee40-f381-4a20-eee6-33f1a4deda82"
      },
      "execution_count": null,
      "outputs": [
        {
          "output_type": "display_data",
          "data": {
            "text/plain": [
              "<Figure size 864x432 with 1 Axes>"
            ],
            "image/png": "[encoded data removed]"
          },
          "metadata": {
            "needs_background": "light"
          }
        }
      ]
    },
    {
      "cell_type": "markdown",
      "source": [
        "# MLP - Regressor"
      ],
      "metadata": {
        "id": "jrHbvMS4sQ1L"
      }
    },
    {
      "cell_type": "code",
      "source": [
        "!pip install scikeras\n",
        "from tensorflow.keras.models import Sequential\n",
        "from tensorflow.keras.layers import Dense\n",
        "from scikeras.wrappers import KerasRegressor"
      ],
      "metadata": {
        "id": "X1Bi0FzUDHXr"
      },
      "execution_count": null,
      "outputs": []
    },
    {
      "cell_type": "code",
      "source": [
        "X = df_pca_PY.iloc[:, 0:29]\n",
        "y = df_pca_PY.iloc[:, 29]\n",
        "X_train, X_test, y_train, y_test = train_test_split(X, y, test_size=0.2, random_state=1)\n",
        "X_train, X_val, y_train, y_val = train_test_split(X_train, y_train, test_size=0.02, random_state=1)"
      ],
      "metadata": {
        "id": "201zUa61XJiP"
      },
      "execution_count": 80,
      "outputs": []
    },
    {
      "cell_type": "code",
      "source": [
        "#Create MLP\n",
        "mlpr = Sequential(name=\"pier_mlp\")\n",
        "mlpr.add(Dense(8, activation=\"relu\", name=\"layer1\"))\n",
        "mlpr.add(Dense(11, activation=\"relu\", name=\"layer2\"))\n",
        "mlpr.add(Dense(8, activation=\"relu\", name=\"layer3\"))\n",
        "mlpr.add(Dense(1, name=\"layer4\"))\n",
        "\n",
        "\n",
        "#Compile MLP  \n",
        "mlpr.compile(loss='mean_squared_error', optimizer='adam')\n",
        "history = mlpr.fit(X_train, y_train, epochs=20, validation_data=(X_test, y_test), shuffle=True)\n"
      ],
      "metadata": {
        "id": "EDdWbqoqsVhK",
        "colab": {
          "base_uri": "https://localhost:8080/"
        },
        "outputId": "7b187cbd-70bc-4886-b0b6-413158857dee"
      },
      "execution_count": 81,
      "outputs": [
        {
          "output_type": "stream",
          "name": "stdout",
          "text": [
            "Epoch 1/20\n",
            "12/12 [==============================] - 1s 20ms/step - loss: 0.0118 - val_loss: 0.0022\n",
            "Epoch 2/20\n",
            "12/12 [==============================] - 0s 5ms/step - loss: 0.0094 - val_loss: 0.0019\n",
            "Epoch 3/20\n",
            "12/12 [==============================] - 0s 5ms/step - loss: 0.0078 - val_loss: 0.0016\n",
            "Epoch 4/20\n",
            "12/12 [==============================] - 0s 4ms/step - loss: 0.0068 - val_loss: 0.0014\n",
            "Epoch 5/20\n",
            "12/12 [==============================] - 0s 6ms/step - loss: 0.0062 - val_loss: 0.0013\n",
            "Epoch 6/20\n",
            "12/12 [==============================] - 0s 5ms/step - loss: 0.0058 - val_loss: 0.0013\n",
            "Epoch 7/20\n",
            "12/12 [==============================] - 0s 5ms/step - loss: 0.0055 - val_loss: 0.0012\n",
            "Epoch 8/20\n",
            "12/12 [==============================] - 0s 5ms/step - loss: 0.0051 - val_loss: 0.0011\n",
            "Epoch 9/20\n",
            "12/12 [==============================] - 0s 5ms/step - loss: 0.0048 - val_loss: 0.0011\n",
            "Epoch 10/20\n",
            "12/12 [==============================] - 0s 7ms/step - loss: 0.0046 - val_loss: 0.0011\n",
            "Epoch 11/20\n",
            "12/12 [==============================] - 0s 7ms/step - loss: 0.0045 - val_loss: 0.0011\n",
            "Epoch 12/20\n",
            "12/12 [==============================] - 0s 4ms/step - loss: 0.0043 - val_loss: 0.0010\n",
            "Epoch 13/20\n",
            "12/12 [==============================] - 0s 5ms/step - loss: 0.0041 - val_loss: 0.0010\n",
            "Epoch 14/20\n",
            "12/12 [==============================] - 0s 6ms/step - loss: 0.0039 - val_loss: 0.0010\n",
            "Epoch 15/20\n",
            "12/12 [==============================] - 0s 6ms/step - loss: 0.0038 - val_loss: 9.9043e-04\n",
            "Epoch 16/20\n",
            "12/12 [==============================] - 0s 6ms/step - loss: 0.0037 - val_loss: 9.8604e-04\n",
            "Epoch 17/20\n",
            "12/12 [==============================] - 0s 5ms/step - loss: 0.0035 - val_loss: 9.8767e-04\n",
            "Epoch 18/20\n",
            "12/12 [==============================] - 0s 6ms/step - loss: 0.0033 - val_loss: 9.6743e-04\n",
            "Epoch 19/20\n",
            "12/12 [==============================] - 0s 4ms/step - loss: 0.0032 - val_loss: 9.5124e-04\n",
            "Epoch 20/20\n",
            "12/12 [==============================] - 0s 4ms/step - loss: 0.0030 - val_loss: 9.4148e-04\n"
          ]
        }
      ]
    },
    {
      "cell_type": "code",
      "source": [
        "plt.plot(history.history['loss'])\n",
        "plt.plot(history.history['val_loss'])\n",
        "plt.title('MLPR - Loss Plot')\n",
        "plt.ylabel('MSE')\n",
        "plt.xlabel('Epoch')\n",
        "plt.legend(['Train', 'Val'], loc='upper left')\n",
        "plt.show()"
      ],
      "metadata": {
        "colab": {
          "base_uri": "https://localhost:8080/",
          "height": 404
        },
        "id": "8qCy-s5cTDpV",
        "outputId": "ef5bbbaa-0d80-409d-aa25-8d5a67dfbcd7"
      },
      "execution_count": 82,
      "outputs": [
        {
          "output_type": "display_data",
          "data": {
            "text/plain": [
              "<Figure size 864x432 with 1 Axes>"
            ],
            "image/png": "[encoded data removed]"
          },
          "metadata": {
            "needs_background": "light"
          }
        }
      ]
    },
    {
      "cell_type": "code",
      "source": [
        "y_pred = mlpr.predict(X_val)\n",
        "y_res = np.array(y_val)\n",
        "y_predict = [elem for i in y_pred for elem in i]\n",
        "res = pd.DataFrame()\n",
        "res['predict'] = y_predict\n",
        "res['value'] = y_res\n",
        "dist = [np.linalg.norm(abs(y_predict[i])-abs(y_res[i])) for i in range(len(y_predict))]\n",
        "res['distance'] = dist\n",
        "res['distance %'] = ((abs(res['predict']) - abs(res['value'])) / abs((res['predict']) + abs(res['value'])))*100\n",
        "res"
      ],
      "metadata": {
        "colab": {
          "base_uri": "https://localhost:8080/",
          "height": 300
        },
        "id": "OMMcv2nqXoEv",
        "outputId": "290d77f1-8760-4d57-9239-d1fb04b8b06e"
      },
      "execution_count": 84,
      "outputs": [
        {
          "output_type": "execute_result",
          "data": {
            "text/plain": [
              "    predict     value  distance  distance %\n",
              "0  0.043001  0.025050  0.017951   26.379257\n",
              "1  0.022802  0.015254  0.007548   19.834404\n",
              "2  0.011964  0.004870  0.007095   42.146142\n",
              "3  0.016935  0.013041  0.003894   12.990394\n",
              "4  0.019604  0.021866  0.002262   -5.454918\n",
              "5  0.019837  0.003954  0.015883   66.760527\n",
              "6  0.013826  0.010242  0.003584   14.892126\n",
              "7  0.022802  0.025771  0.002969   -6.111600"
            ],
            "text/html": [
              "\n",
              "  <div id=\"df-a0451123-8917-42b8-bd21-27c1bc02f4af\">\n",
              "    <div class=\"colab-df-container\">\n",
              "      <div>\n",
              "<style scoped>\n",
              "    .dataframe tbody tr th:only-of-type {\n",
              "        vertical-align: middle;\n",
              "    }\n",
              "\n",
              "    .dataframe tbody tr th {\n",
              "        vertical-align: top;\n",
              "    }\n",
              "\n",
              "    .dataframe thead th {\n",
              "        text-align: right;\n",
              "    }\n",
              "</style>\n",
              "<table border=\"1\" class=\"dataframe\">\n",
              "  <thead>\n",
              "    <tr style=\"text-align: right;\">\n",
              "      <th></th>\n",
              "      <th>predict</th>\n",
              "      <th>value</th>\n",
              "      <th>distance</th>\n",
              "      <th>distance %</th>\n",
              "    </tr>\n",
              "  </thead>\n",
              "  <tbody>\n",
              "    <tr>\n",
              "      <th>0</th>\n",
              "      <td>0.043001</td>\n",
              "      <td>0.025050</td>\n",
              "      <td>0.017951</td>\n",
              "      <td>26.379257</td>\n",
              "    </tr>\n",
              "    <tr>\n",
              "      <th>1</th>\n",
              "      <td>0.022802</td>\n",
              "      <td>0.015254</td>\n",
              "      <td>0.007548</td>\n",
              "      <td>19.834404</td>\n",
              "    </tr>\n",
              "    <tr>\n",
              "      <th>2</th>\n",
              "      <td>0.011964</td>\n",
              "      <td>0.004870</td>\n",
              "      <td>0.007095</td>\n",
              "      <td>42.146142</td>\n",
              "    </tr>\n",
              "    <tr>\n",
              "      <th>3</th>\n",
              "      <td>0.016935</td>\n",
              "      <td>0.013041</td>\n",
              "      <td>0.003894</td>\n",
              "      <td>12.990394</td>\n",
              "    </tr>\n",
              "    <tr>\n",
              "      <th>4</th>\n",
              "      <td>0.019604</td>\n",
              "      <td>0.021866</td>\n",
              "      <td>0.002262</td>\n",
              "      <td>-5.454918</td>\n",
              "    </tr>\n",
              "    <tr>\n",
              "      <th>5</th>\n",
              "      <td>0.019837</td>\n",
              "      <td>0.003954</td>\n",
              "      <td>0.015883</td>\n",
              "      <td>66.760527</td>\n",
              "    </tr>\n",
              "    <tr>\n",
              "      <th>6</th>\n",
              "      <td>0.013826</td>\n",
              "      <td>0.010242</td>\n",
              "      <td>0.003584</td>\n",
              "      <td>14.892126</td>\n",
              "    </tr>\n",
              "    <tr>\n",
              "      <th>7</th>\n",
              "      <td>0.022802</td>\n",
              "      <td>0.025771</td>\n",
              "      <td>0.002969</td>\n",
              "      <td>-6.111600</td>\n",
              "    </tr>\n",
              "  </tbody>\n",
              "</table>\n",
              "</div>\n",
              "      <button class=\"colab-df-convert\" onclick=\"convertToInteractive('df-a0451123-8917-42b8-bd21-27c1bc02f4af')\"\n",
              "              title=\"Convert this dataframe to an interactive table.\"\n",
              "              style=\"display:none;\">\n",
              "        \n",
              "  <svg xmlns=\"http://www.w3.org/2000/svg\" height=\"24px\"viewBox=\"0 0 24 24\"\n",
              "       width=\"24px\">\n",
              "    <path d=\"M0 0h24v24H0V0z\" fill=\"none\"/>\n",
              "    <path d=\"M18.56 5.44l.94 2.06.94-2.06 2.06-.94-2.06-.94-.94-2.06-.94 2.06-2.06.94zm-11 1L8.5 8.5l.94-2.06 2.06-.94-2.06-.94L8.5 2.5l-.94 2.06-2.06.94zm10 10l.94 2.06.94-2.06 2.06-.94-2.06-.94-.94-2.06-.94 2.06-2.06.94z\"/><path d=\"M17.41 7.96l-1.37-1.37c-.4-.4-.92-.59-1.43-.59-.52 0-1.04.2-1.43.59L10.3 9.45l-7.72 7.72c-.78.78-.78 2.05 0 2.83L4 21.41c.39.39.9.59 1.41.59.51 0 1.02-.2 1.41-.59l7.78-7.78 2.81-2.81c.8-.78.8-2.07 0-2.86zM5.41 20L4 18.59l7.72-7.72 1.47 1.35L5.41 20z\"/>\n",
              "  </svg>\n",
              "      </button>\n",
              "      \n",
              "  <style>\n",
              "    .colab-df-container {\n",
              "      display:flex;\n",
              "      flex-wrap:wrap;\n",
              "      gap: 12px;\n",
              "    }\n",
              "\n",
              "    .colab-df-convert {\n",
              "      background-color: #E8F0FE;\n",
              "      border: none;\n",
              "      border-radius: 50%;\n",
              "      cursor: pointer;\n",
              "      display: none;\n",
              "      fill: #1967D2;\n",
              "      height: 32px;\n",
              "      padding: 0 0 0 0;\n",
              "      width: 32px;\n",
              "    }\n",
              "\n",
              "    .colab-df-convert:hover {\n",
              "      background-color: #E2EBFA;\n",
              "      box-shadow: 0px 1px 2px rgba(60, 64, 67, 0.3), 0px 1px 3px 1px rgba(60, 64, 67, 0.15);\n",
              "      fill: #174EA6;\n",
              "    }\n",
              "\n",
              "    [theme=dark] .colab-df-convert {\n",
              "      background-color: #3B4455;\n",
              "      fill: #D2E3FC;\n",
              "    }\n",
              "\n",
              "    [theme=dark] .colab-df-convert:hover {\n",
              "      background-color: #434B5C;\n",
              "      box-shadow: 0px 1px 3px 1px rgba(0, 0, 0, 0.15);\n",
              "      filter: drop-shadow(0px 1px 2px rgba(0, 0, 0, 0.3));\n",
              "      fill: #FFFFFF;\n",
              "    }\n",
              "  </style>\n",
              "\n",
              "      <script>\n",
              "        const buttonEl =\n",
              "          document.querySelector('#df-a0451123-8917-42b8-bd21-27c1bc02f4af button.colab-df-convert');\n",
              "        buttonEl.style.display =\n",
              "          google.colab.kernel.accessAllowed ? 'block' : 'none';\n",
              "\n",
              "        async function convertToInteractive(key) {\n",
              "          const element = document.querySelector('#df-a0451123-8917-42b8-bd21-27c1bc02f4af');\n",
              "          const dataTable =\n",
              "            await google.colab.kernel.invokeFunction('convertToInteractive',\n",
              "                                                     [key], {});\n",
              "          if (!dataTable) return;\n",
              "\n",
              "          const docLinkHtml = 'Like what you see? Visit the ' +\n",
              "            '<a target=\"_blank\" href=https://colab.research.google.com/notebooks/data_table.ipynb>data table notebook</a>'\n",
              "            + ' to learn more about interactive tables.';\n",
              "          element.innerHTML = '';\n",
              "          dataTable['output_type'] = 'display_data';\n",
              "          await google.colab.output.renderOutput(dataTable, element);\n",
              "          const docLink = document.createElement('div');\n",
              "          docLink.innerHTML = docLinkHtml;\n",
              "          element.appendChild(docLink);\n",
              "        }\n",
              "      </script>\n",
              "    </div>\n",
              "  </div>\n",
              "  "
            ]
          },
          "metadata": {},
          "execution_count": 84
        }
      ]
    },
    {
      "cell_type": "code",
      "source": [
        "# K-fold Validation\n",
        "X = df_pca_PY.iloc[:, 0:29]\n",
        "y = df_pca_PY.iloc[:, 29]\n",
        "estimator = KerasRegressor(model=mlpr, epochs=10, batch_size=32)\n",
        "kfold = KFold(n_splits=10)\n",
        "results = cross_val_score(estimator, X, y, cv=kfold, scoring='neg_mean_squared_error')"
      ],
      "metadata": {
        "id": "xsLJJ89AAbb3"
      },
      "execution_count": null,
      "outputs": []
    }
  ]
}